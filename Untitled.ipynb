{
 "cells": [
  {
   "cell_type": "code",
   "execution_count": 10,
   "metadata": {},
   "outputs": [],
   "source": [
    "import tensorflow as tf\n",
    "import cv2\n",
    "import numpy as np\n",
    "from tensorflow.keras.preprocessing.image import load_img , img_to_array\n",
    "from PIL import Image"
   ]
  },
  {
   "cell_type": "code",
   "execution_count": 29,
   "metadata": {},
   "outputs": [],
   "source": [
    "model = tf.keras.models.load_model(r'C:\\Users\\adars\\Desktop\\webapp\\best.hdf5')\n",
    "video = cv2.VideoCapture(0)\n",
    "labels_dict={0:'Mask',1:'No Mask'}\n",
    "\n",
    "while True:\n",
    "        _, frame = video.read()\n",
    "        im = Image.fromarray(frame, 'RGB')\n",
    "        im = im.resize((224,224))\n",
    "        x = img_to_array(im)\n",
    "        images = np.array([x],dtype=\"float32\")\n",
    "        classes = model.predict(images)\n",
    "        classes = labels_dict[np.argmax(classes)]\n",
    "        if classes == 'No Mask':\n",
    "                frame = cv2.cvtColor(frame, cv2.COLOR_BGR2GRAY)\n",
    "        cv2.imshow(\"Capturing\", frame)\n",
    "        key=cv2.waitKey(1)\n",
    "        if key == ord('q'):\n",
    "                break\n",
    "video.release()\n",
    "cv2.destroyAllWindows()"
   ]
  },
  {
   "cell_type": "code",
   "execution_count": 28,
   "metadata": {},
   "outputs": [
    {
     "name": "stdout",
     "output_type": "stream",
     "text": [
      "Warning: unable to open video source:  1\n"
     ]
    }
   ],
   "source": [
    "def testDevice(source):\n",
    "   cap = cv2.VideoCapture(source) \n",
    "   if cap is None or not cap.isOpened():\n",
    "       print('Warning: unable to open video source: ', source)\n",
    "\n",
    "testDevice(0) # no printout\n",
    "testDevice(1) # prints message"
   ]
  },
  {
   "cell_type": "code",
   "execution_count": null,
   "metadata": {},
   "outputs": [],
   "source": []
  }
 ],
 "metadata": {
  "kernelspec": {
   "display_name": "Python 3",
   "language": "python",
   "name": "python3"
  },
  "language_info": {
   "codemirror_mode": {
    "name": "ipython",
    "version": 3
   },
   "file_extension": ".py",
   "mimetype": "text/x-python",
   "name": "python",
   "nbconvert_exporter": "python",
   "pygments_lexer": "ipython3",
   "version": "3.8.5"
  }
 },
 "nbformat": 4,
 "nbformat_minor": 4
}
